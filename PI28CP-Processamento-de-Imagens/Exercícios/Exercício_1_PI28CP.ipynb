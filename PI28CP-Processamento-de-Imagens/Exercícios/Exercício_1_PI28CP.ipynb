{
 "cells": [
  {
   "cell_type": "markdown",
   "id": "ec534ab6",
   "metadata": {},
   "source": [
    "# Exercício"
   ]
  },
  {
   "cell_type": "markdown",
   "id": "6224226c",
   "metadata": {},
   "source": [
    "## 1) Escolha uma imagem colorida de seu interesse e realize as operações solicitadas abaixo:"
   ]
  },
  {
   "cell_type": "markdown",
   "id": "6a40e50f",
   "metadata": {},
   "source": [
    "## a) Leitura da imagem"
   ]
  },
  {
   "cell_type": "code",
   "execution_count": null,
   "id": "f7943c29",
   "metadata": {},
   "outputs": [],
   "source": []
  },
  {
   "cell_type": "markdown",
   "id": "e496d021",
   "metadata": {},
   "source": [
    "## b) Mostre as dimensões (shape) e número de canais"
   ]
  },
  {
   "cell_type": "code",
   "execution_count": null,
   "id": "e40d945e",
   "metadata": {},
   "outputs": [],
   "source": []
  },
  {
   "cell_type": "markdown",
   "id": "024c4e03-8c90-4e92-b9ec-f33f68cedaa2",
   "metadata": {},
   "source": [
    "## c) Plote a imagem"
   ]
  },
  {
   "cell_type": "code",
   "execution_count": null,
   "id": "395cd157-531e-4687-9822-f0f48204dc3c",
   "metadata": {},
   "outputs": [],
   "source": []
  },
  {
   "cell_type": "markdown",
   "id": "44187d51",
   "metadata": {},
   "source": [
    "## d) Insira um pequeno quadrado na posição 0, 0, de dimensão (20, 20)"
   ]
  },
  {
   "cell_type": "code",
   "execution_count": null,
   "id": "694ddda0",
   "metadata": {},
   "outputs": [],
   "source": []
  },
  {
   "cell_type": "markdown",
   "id": "3da6b720-26b3-4aa4-9225-51fdd855e688",
   "metadata": {},
   "source": [
    "## e) Faça o primeiro quadrante da imagem ficar amarelo"
   ]
  },
  {
   "cell_type": "code",
   "execution_count": null,
   "id": "0f999709-cfbe-447d-84b0-29e793af4a55",
   "metadata": {},
   "outputs": [],
   "source": []
  },
  {
   "cell_type": "markdown",
   "id": "ae2905c6",
   "metadata": {},
   "source": [
    "## f) Faça o quarto quadrante da imagem ficar pintada de preto"
   ]
  },
  {
   "cell_type": "code",
   "execution_count": null,
   "id": "1ce40f1c",
   "metadata": {},
   "outputs": [],
   "source": []
  },
  {
   "cell_type": "markdown",
   "id": "517202db-a171-4a45-89a9-e51bc21ca4bb",
   "metadata": {},
   "source": [
    "## g) Salve a imagem resultante das operações"
   ]
  },
  {
   "cell_type": "code",
   "execution_count": null,
   "id": "32839667-c966-48c8-b512-7c3bfa58e07b",
   "metadata": {},
   "outputs": [],
   "source": []
  },
  {
   "cell_type": "markdown",
   "id": "4b3592e0-7361-48b0-9f98-61775c5f3389",
   "metadata": {},
   "source": [
    "## h) Recarregue a imagem original"
   ]
  },
  {
   "cell_type": "code",
   "execution_count": null,
   "id": "0d183d38-f072-4c7e-a87b-b367ebaa5d07",
   "metadata": {},
   "outputs": [],
   "source": []
  },
  {
   "cell_type": "markdown",
   "id": "75a506b9-b36d-4eb3-a9d1-7af0239853b2",
   "metadata": {},
   "source": [
    "## i) Separe os canais da imagem"
   ]
  },
  {
   "cell_type": "code",
   "execution_count": null,
   "id": "5ced2696-47b0-47c3-a847-3061ed8ce905",
   "metadata": {},
   "outputs": [],
   "source": []
  },
  {
   "cell_type": "markdown",
   "id": "e619cf89-c445-49f2-b67e-0238f63869b0",
   "metadata": {},
   "source": [
    "## j) Calcule o resto da divisão de cada pixel do canal vermelho por 128"
   ]
  },
  {
   "cell_type": "code",
   "execution_count": null,
   "id": "b3e9c012-57c4-41d1-a21c-ce3882dd58e8",
   "metadata": {},
   "outputs": [],
   "source": []
  },
  {
   "cell_type": "markdown",
   "id": "e4fe67f0-7536-4318-aa44-a34fe1ecfc12",
   "metadata": {},
   "source": [
    "## k) Some cada pixel do canal azul por 10"
   ]
  },
  {
   "cell_type": "code",
   "execution_count": null,
   "id": "63561247-d83a-4c03-a18a-4b945727db93",
   "metadata": {},
   "outputs": [],
   "source": []
  },
  {
   "cell_type": "markdown",
   "id": "9987fab6-b03a-4ddf-ae2f-7d30aaaa88ec",
   "metadata": {},
   "source": [
    "## l) Calcule o módulo da subtração de pixel do canal verde "
   ]
  },
  {
   "cell_type": "code",
   "execution_count": null,
   "id": "45f12b15-1f86-4aa9-b464-f053595b3626",
   "metadata": {},
   "outputs": [],
   "source": []
  },
  {
   "cell_type": "code",
   "execution_count": null,
   "id": "a56924d3",
   "metadata": {},
   "outputs": [],
   "source": []
  }
 ],
 "metadata": {
  "kernelspec": {
   "display_name": "Python 3 (ipykernel)",
   "language": "python",
   "name": "python3"
  },
  "language_info": {
   "codemirror_mode": {
    "name": "ipython",
    "version": 3
   },
   "file_extension": ".py",
   "mimetype": "text/x-python",
   "name": "python",
   "nbconvert_exporter": "python",
   "pygments_lexer": "ipython3",
   "version": "3.10.12"
  }
 },
 "nbformat": 4,
 "nbformat_minor": 5
}
